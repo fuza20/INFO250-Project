{
 "cells": [
  {
   "cell_type": "code",
   "execution_count": 5,
   "id": "2a514968",
   "metadata": {},
   "outputs": [],
   "source": [
    "import pandas as pd\n",
    "import numpy as np\n",
    "from matplotlib import pyplot as plt"
   ]
  },
  {
   "cell_type": "code",
   "execution_count": 33,
   "id": "1e86d360",
   "metadata": {},
   "outputs": [],
   "source": [
    "dataset = pd.read_csv(\"datasets/project1_dataset.csv\")\n",
    "labels =  [\"no_datapoints\",\"no_features\", \"datatype\",\"algorithm\",\"train_energy(J)\"]"
   ]
  },
  {
   "cell_type": "code",
   "execution_count": 35,
   "id": "bac4e296",
   "metadata": {},
   "outputs": [],
   "source": [
    "dataset_SVM = dataset[labels][dataset[labels]['algorithm'] == \"SVM\"]"
   ]
  },
  {
   "cell_type": "code",
   "execution_count": 36,
   "id": "932c0e3c",
   "metadata": {},
   "outputs": [],
   "source": [
    "dataset_SVM_use = dataset_SVM[['no_features','train_energy(J)']]"
   ]
  },
  {
   "cell_type": "code",
   "execution_count": 37,
   "id": "559cf18d",
   "metadata": {},
   "outputs": [
    {
     "data": {
      "text/html": [
       "<div>\n",
       "<style scoped>\n",
       "    .dataframe tbody tr th:only-of-type {\n",
       "        vertical-align: middle;\n",
       "    }\n",
       "\n",
       "    .dataframe tbody tr th {\n",
       "        vertical-align: top;\n",
       "    }\n",
       "\n",
       "    .dataframe thead th {\n",
       "        text-align: right;\n",
       "    }\n",
       "</style>\n",
       "<table border=\"1\" class=\"dataframe\">\n",
       "  <thead>\n",
       "    <tr style=\"text-align: right;\">\n",
       "      <th></th>\n",
       "      <th>no_features</th>\n",
       "      <th>train_energy(J)</th>\n",
       "    </tr>\n",
       "  </thead>\n",
       "  <tbody>\n",
       "    <tr>\n",
       "      <th>4</th>\n",
       "      <td>8169</td>\n",
       "      <td>4.127939</td>\n",
       "    </tr>\n",
       "    <tr>\n",
       "      <th>10</th>\n",
       "      <td>7352</td>\n",
       "      <td>0.379359</td>\n",
       "    </tr>\n",
       "    <tr>\n",
       "      <th>13</th>\n",
       "      <td>8169</td>\n",
       "      <td>0.425591</td>\n",
       "    </tr>\n",
       "    <tr>\n",
       "      <th>15</th>\n",
       "      <td>8169</td>\n",
       "      <td>0.432126</td>\n",
       "    </tr>\n",
       "    <tr>\n",
       "      <th>17</th>\n",
       "      <td>6535</td>\n",
       "      <td>0.343090</td>\n",
       "    </tr>\n",
       "    <tr>\n",
       "      <th>...</th>\n",
       "      <td>...</td>\n",
       "      <td>...</td>\n",
       "    </tr>\n",
       "    <tr>\n",
       "      <th>737</th>\n",
       "      <td>8169</td>\n",
       "      <td>0.350824</td>\n",
       "    </tr>\n",
       "    <tr>\n",
       "      <th>752</th>\n",
       "      <td>8169</td>\n",
       "      <td>1.202135</td>\n",
       "    </tr>\n",
       "    <tr>\n",
       "      <th>755</th>\n",
       "      <td>1633</td>\n",
       "      <td>0.468883</td>\n",
       "    </tr>\n",
       "    <tr>\n",
       "      <th>759</th>\n",
       "      <td>8169</td>\n",
       "      <td>0.634587</td>\n",
       "    </tr>\n",
       "    <tr>\n",
       "      <th>768</th>\n",
       "      <td>8169</td>\n",
       "      <td>0.530900</td>\n",
       "    </tr>\n",
       "  </tbody>\n",
       "</table>\n",
       "<p>110 rows × 2 columns</p>\n",
       "</div>"
      ],
      "text/plain": [
       "     no_features  train_energy(J)\n",
       "4           8169         4.127939\n",
       "10          7352         0.379359\n",
       "13          8169         0.425591\n",
       "15          8169         0.432126\n",
       "17          6535         0.343090\n",
       "..           ...              ...\n",
       "737         8169         0.350824\n",
       "752         8169         1.202135\n",
       "755         1633         0.468883\n",
       "759         8169         0.634587\n",
       "768         8169         0.530900\n",
       "\n",
       "[110 rows x 2 columns]"
      ]
     },
     "execution_count": 37,
     "metadata": {},
     "output_type": "execute_result"
    }
   ],
   "source": [
    "dataset_SVM_use"
   ]
  },
  {
   "cell_type": "code",
   "execution_count": 41,
   "id": "5c1b86e2",
   "metadata": {},
   "outputs": [
    {
     "data": {
      "text/plain": [
       "<matplotlib.collections.PathCollection at 0xa76a1350>"
      ]
     },
     "execution_count": 41,
     "metadata": {},
     "output_type": "execute_result"
    },
    {
     "data": {
      "image/png": "[encoded data removed]",
      "text/plain": [
       "<Figure size 640x480 with 1 Axes>"
      ]
     },
     "metadata": {},
     "output_type": "display_data"
    }
   ],
   "source": [
    "plt.xlabel('no_features')\n",
    "plt.ylabel('train_energy(J)')\n",
    "plt.scatter(dataset_SVM_use['no_features'],dataset_SVM_use['train_energy(J)'])"
   ]
  },
  {
   "cell_type": "code",
   "execution_count": null,
   "id": "6a25ef44",
   "metadata": {},
   "outputs": [],
   "source": []
  }
 ],
 "metadata": {
  "kernelspec": {
   "display_name": "Python 3 (ipykernel)",
   "language": "python",
   "name": "python3"
  },
  "language_info": {
   "codemirror_mode": {
    "name": "ipython",
    "version": 3
   },
   "file_extension": ".py",
   "mimetype": "text/x-python",
   "name": "python",
   "nbconvert_exporter": "python",
   "pygments_lexer": "ipython3",
   "version": "3.7.3"
  }
 },
 "nbformat": 4,
 "nbformat_minor": 5
}
