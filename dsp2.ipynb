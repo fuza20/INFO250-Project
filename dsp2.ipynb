{
 "cells": [
  {
   "cell_type": "markdown",
   "id": "d5246d1a",
   "metadata": {},
   "source": [
    "# 作业2"
   ]
  },
  {
   "cell_type": "markdown",
   "id": "6e903fd0",
   "metadata": {},
   "source": [
    "## Ex1\n",
    "Define a class with a generator which can iterate the numbers, which are divisible by7, between a given number range 0 and n."
   ]
  },
  {
   "cell_type": "code",
   "execution_count": 19,
   "id": "bf105163",
   "metadata": {},
   "outputs": [],
   "source": [
    "class iterator():\n",
    "    \n",
    "    def __init__(self,n):\n",
    "            super(iterator,self).__init__()\n",
    "            self.n = n\n",
    "\n",
    "    def modSeven(self):\n",
    "        for i in range(1,self.n):\n",
    "            if i % 7 == 0:\n",
    "                yield i"
   ]
  },
  {
   "cell_type": "code",
   "execution_count": 20,
   "id": "e47000dd",
   "metadata": {},
   "outputs": [
    {
     "name": "stdout",
     "output_type": "stream",
     "text": [
      "7\n",
      "14\n",
      "21\n",
      "28\n",
      "35\n",
      "42\n",
      "49\n",
      "56\n",
      "63\n",
      "70\n",
      "77\n",
      "84\n",
      "91\n",
      "98\n"
     ]
    }
   ],
   "source": [
    "for i in iterator(100).modSeven():\n",
    "    print(i)"
   ]
  },
  {
   "attachments": {},
   "cell_type": "markdown",
   "id": "bc09ce33",
   "metadata": {},
   "source": [
    "## Ex2\n",
    "Write a program to compute the frequency of the words from the input. The output should output after sorting the key alphanumerically. Suppose the following input is supplied to the program:\n",
    "\n",
    "New to Python or choosing between Python 2 and Python 3? Read Python 2 or Python 3.\n",
    "\n",
    "Then, the output should be？"
   ]
  },
  {
   "cell_type": "code",
   "execution_count": 22,
   "id": "ad16bdea",
   "metadata": {},
   "outputs": [],
   "source": [
    "def CaculateFrequency(input):\n",
    "    freq = {}\n",
    "    for i in input.split():\n",
    "        freq[i] = freq.get(i, 0) + 1\n",
    "\n",
    "    words = list(freq.keys())\n",
    "    words.sort()\n",
    "\n",
    "    for w in words:\n",
    "        print(f'{w}:{freq[w]}')"
   ]
  },
  {
   "cell_type": "code",
   "execution_count": 23,
   "id": "d09e8796",
   "metadata": {},
   "outputs": [
    {
     "name": "stdout",
     "output_type": "stream",
     "text": [
      "2:2\n",
      "3.:1\n",
      "3?:1\n",
      "New:1\n",
      "Python:5\n",
      "Read:1\n",
      "and:1\n",
      "between:1\n",
      "choosing:1\n",
      "or:2\n",
      "to:1\n"
     ]
    }
   ],
   "source": [
    "CaculateFrequency(\"New to Python or choosing between Python 2 and Python 3? Read Python 2 or Python 3.\")"
   ]
  },
  {
   "attachments": {},
   "cell_type": "markdown",
   "id": "a4ad8a6f",
   "metadata": {},
   "source": [
    "## Ex3\n",
    "You are required to write a program to sort the (name, age, score) tuples by ascending order where name is string, age and score are numbers. The tuples are input by console. \n",
    "\n",
    "The sort criteria is:\n",
    "\n",
    "1: Sort based on name;\n",
    "\n",
    "2: Then sort based on age;\n",
    "\n",
    "3: Then sort by score.\n",
    "\n",
    "The priority is that name > age > score.\n",
    "   \n",
    "   If the following tuples are given as input to the program:\n",
    "\n",
    "Tom,19,80\n",
    "\n",
    "John,20,90\n",
    "\n",
    "Jony,17,91\n",
    "\n",
    "Jony,17,93\n",
    "\n",
    "Json,21,85\n",
    "\n",
    "Then, the output of the program should be？"
   ]
  },
  {
   "cell_type": "code",
   "execution_count": 29,
   "id": "9392b302",
   "metadata": {},
   "outputs": [
    {
     "name": "stdout",
     "output_type": "stream",
     "text": [
      "Tom,19,80\n",
      "John,20,90\n",
      "Jony,17,91\n",
      "Jony,17,93\n",
      "Json,21,85\n",
      "\n"
     ]
    },
    {
     "data": {
      "text/plain": [
       "[('John', '20', '90'),\n",
       " ('Jony', '17', '91'),\n",
       " ('Jony', '17', '93'),\n",
       " ('Json', '21', '85'),\n",
       " ('Tom', '19', '80')]"
      ]
     },
     "execution_count": 29,
     "metadata": {},
     "output_type": "execute_result"
    }
   ],
   "source": [
    "from operator import itemgetter\n",
    "def sortInfo():\n",
    "    people_info = []\n",
    "    while True:\n",
    "        individual_info = input()\n",
    "\n",
    "        if individual_info == \"\":\n",
    "            break\n",
    "        else:\n",
    "            people_info.append(tuple((individual_info.split(\",\"))))\n",
    "\n",
    "    people_info.sort(key =  itemgetter(0, 1, 2))       \n",
    "    return people_info\n",
    "sortInfo()"
   ]
  },
  {
   "attachments": {},
   "cell_type": "markdown",
   "id": "da21f0e5",
   "metadata": {},
   "source": [
    "A website requires the users to input username and password to register. Write a program to check the validity of password input by users.\n",
    "Following are the criteria for checking the password:\n",
    "\n",
    "1. At least 1 letter between [a-z]\n",
    "2. At least 1 number between [0-9]\n",
    "3. At least 1 letter between [A-Z]\n",
    "4. At least 1 character from [$#@]\n",
    "5. Minimum length of transaction password: 6\n",
    "6. Maximum length of transaction password: 12\n",
    "\n",
    "Your program should accept a sequence of comma separated passwords and will check them according to the above criteria. Passwords that match the criteria are to be printed, each separated by a comma."
   ]
  },
  {
   "cell_type": "code",
   "execution_count": 26,
   "id": "24a506e7",
   "metadata": {},
   "outputs": [],
   "source": [
    "def checkThePassword(passwords):\n",
    "    accepted_pass = []\n",
    "    for i in passwords.split(\",\"):\n",
    "        if len(i) < 6 or len(i) > 12:\n",
    "            continue\n",
    "        elif not re.search(\"([a-z])+\",i):\n",
    "            continue\n",
    "        elif not re.search(\"[A-Z]\",i):\n",
    "            continue\n",
    "        elif not re.search(\"[0-9]+\",i):\n",
    "            continue\n",
    "        elif not re.search(\"([!@$%^&])+\", i):\n",
    "            continue\n",
    "        else:\n",
    "            accepted_pass.append(i)\n",
    "    return accepted_pass"
   ]
  },
  {
   "cell_type": "code",
   "execution_count": 27,
   "id": "88c1afb8",
   "metadata": {},
   "outputs": [
    {
     "data": {
      "text/plain": [
       "['Asd!@123123']"
      ]
     },
     "execution_count": 27,
     "metadata": {},
     "output_type": "execute_result"
    }
   ],
   "source": [
    "checkThePassword(\"1111111111,2222asdadazxczxc,adsadad,Asd!@123123\")"
   ]
  },
  {
   "attachments": {},
   "cell_type": "markdown",
   "id": "644c63bf",
   "metadata": {},
   "source": [
    "## Ex5\n",
    "A robot moves in a plane starting from the original point (0,0). The robot can move toward UP, DOWN, LEFT and RIGHT with a given steps. The trace of robot movement is shown as the following:\n",
    "\n",
    "UP 5\n",
    "\n",
    "DOWN 3\n",
    "\n",
    "LEFT 3\n",
    "\n",
    "RIGHT 2\n",
    "\n",
    "The numbers after the direction are steps. Please write a program to compute the distance from current position after a sequence of movement and original point. If the distance is a float, then just print the nearest integer. "
   ]
  },
  {
   "cell_type": "code",
   "execution_count": 30,
   "id": "3b40705a",
   "metadata": {},
   "outputs": [],
   "source": [
    "import math\n",
    "def caculateDis():\n",
    "    x, y = 0, 0\n",
    "\n",
    "    while True:\n",
    "        step = input(\"Type in UP/DOWN/LEFT/RIGHT #step number: \")\n",
    "\n",
    "        if step == \"\":\n",
    "            break\n",
    "\n",
    "        else:\n",
    "            step = step.split(\" \")\n",
    "\n",
    "            if step[0] == \"UP\":\n",
    "                y = y + int(step[1])\n",
    "            elif step[0] == \"DOWN\":\n",
    "                y = y - int(step[1])\n",
    "            elif step[0] == \"LEFT\":\n",
    "                x = x - int(step[1])\n",
    "            elif step[0] == \"RIGHT\":\n",
    "                x = x + int(step[1])\n",
    "\n",
    "    return math.sqrt(x**2 + y**2)"
   ]
  },
  {
   "cell_type": "code",
   "execution_count": 31,
   "id": "f18ffb5a",
   "metadata": {},
   "outputs": [
    {
     "name": "stdout",
     "output_type": "stream",
     "text": [
      "Type in UP/DOWN/LEFT/RIGHT #step number: UP 3\n",
      "Type in UP/DOWN/LEFT/RIGHT #step number: RIGHT 4\n",
      "Type in UP/DOWN/LEFT/RIGHT #step number: \n"
     ]
    },
    {
     "data": {
      "text/plain": [
       "5.0"
      ]
     },
     "execution_count": 31,
     "metadata": {},
     "output_type": "execute_result"
    }
   ],
   "source": [
    "caculateDis()"
   ]
  },
  {
   "cell_type": "code",
   "execution_count": null,
   "id": "397e95ce",
   "metadata": {},
   "outputs": [],
   "source": []
  }
 ],
 "metadata": {
  "kernelspec": {
   "display_name": "Python 3 (ipykernel)",
   "language": "python",
   "name": "python3"
  },
  "language_info": {
   "codemirror_mode": {
    "name": "ipython",
    "version": 3
   },
   "file_extension": ".py",
   "mimetype": "text/x-python",
   "name": "python",
   "nbconvert_exporter": "python",
   "pygments_lexer": "ipython3",
   "version": "3.7.3"
  }
 },
 "nbformat": 4,
 "nbformat_minor": 5
}
